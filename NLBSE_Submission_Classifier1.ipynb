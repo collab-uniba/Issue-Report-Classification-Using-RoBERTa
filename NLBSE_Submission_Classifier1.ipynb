{
  "cells": [
    {
      "cell_type": "markdown",
      "source": [
        "# NLBSE2022 Tool Competition Submission\n",
        "\n",
        "For the NLBSE2022 Tool Competition, our team from *University of Bari* built two classifiers. This is the first one, based on RoBERTa fine-tuning."
      ],
      "metadata": {
        "id": "eL5T-HwxNYe3"
      }
    },
    {
      "cell_type": "markdown",
      "source": [
        "## Set up persistent storage"
      ],
      "metadata": {
        "id": "RTvfhDx7csce"
      }
    },
    {
      "cell_type": "code",
      "execution_count": null,
      "metadata": {
        "id": "uf7MSgJoWz8b"
      },
      "outputs": [],
      "source": [
        "from google.colab import drive\n",
        "drive.mount('/content/drive')\n",
        "\n",
        "prefix_dir = '/content/drive/MyDrive/'"
      ]
    },
    {
      "cell_type": "markdown",
      "source": [
        "## Check GPU"
      ],
      "metadata": {
        "id": "_PUZvYondOPf"
      }
    },
    {
      "cell_type": "code",
      "execution_count": null,
      "metadata": {
        "id": "8quTKzeBzc0Z"
      },
      "outputs": [],
      "source": [
        "!nvidia-smi"
      ]
    },
    {
      "cell_type": "markdown",
      "source": [
        "## Install dependecies"
      ],
      "metadata": {
        "id": "vx2wqtkidZO8"
      }
    },
    {
      "cell_type": "code",
      "execution_count": null,
      "metadata": {
        "id": "J_KPHZ0wx9BL"
      },
      "outputs": [],
      "source": [
        "!pip install ekphrasis\n",
        "!pip install transformers\n",
        "!pip install imblearn"
      ]
    },
    {
      "cell_type": "code",
      "execution_count": null,
      "metadata": {
        "id": "vsqBT0esJGc5"
      },
      "outputs": [],
      "source": [
        "import os\n",
        "import time\n",
        "import numpy as np\n",
        "import pandas as pd\n",
        "import sklearn.metrics\n",
        "from tqdm.auto import tqdm\n",
        "from ekphrasis.classes.preprocessor import TextPreProcessor\n",
        "from ekphrasis.classes.tokenizer import SocialTokenizer\n",
        "from ekphrasis.dicts.emoticons import emoticons\n",
        "import re\n",
        "from keras.preprocessing.sequence import pad_sequences\n",
        "from _datetime import datetime as dt\n",
        "import random\n",
        "import torch\n",
        "from transformers import AutoModel, AutoTokenizer, AutoConfig, AutoModelForSequenceClassification\n",
        "from transformers import (\n",
        "    WEIGHTS_NAME,\n",
        "    AdamW,\n",
        "    get_linear_schedule_with_warmup\n",
        ")\n",
        "from sklearn.preprocessing import LabelEncoder\n",
        "from sklearn.model_selection import train_test_split\n",
        "from torch.utils.data import DataLoader, Dataset, RandomSampler, SequentialSampler, TensorDataset\n",
        "import datetime\n",
        "from sklearn.metrics import classification_report, f1_score, confusion_matrix\n",
        "from imblearn.under_sampling import RandomUnderSampler\n",
        "import json"
      ]
    },
    {
      "cell_type": "markdown",
      "source": [
        "## Download the dataset"
      ],
      "metadata": {
        "id": "WXzYogZ-dlwD"
      }
    },
    {
      "cell_type": "code",
      "execution_count": null,
      "metadata": {
        "id": "BdOcJnwIJSWg"
      },
      "outputs": [],
      "source": [
        "# download the training set if it does not exist\n",
        "if not os.path.isfile(\"github-labels-top3-803k-train.csv\"):\n",
        "  !curl \"https://tickettagger.blob.core.windows.net/datasets/github-labels-top3-803k-train.tar.gz\" | tar -xz\n",
        "\n",
        "trainset = pd.read_csv(\"github-labels-top3-803k-train.csv\")"
      ]
    },
    {
      "cell_type": "code",
      "execution_count": null,
      "metadata": {
        "id": "yVPgiEtFJTny"
      },
      "outputs": [],
      "source": [
        "trainset.head(5)"
      ]
    },
    {
      "cell_type": "markdown",
      "source": [
        "## Dataset distribution"
      ],
      "metadata": {
        "id": "D6Pk-iSPdqYd"
      }
    },
    {
      "cell_type": "code",
      "execution_count": null,
      "metadata": {
        "id": "itDTLBRMJUo0"
      },
      "outputs": [],
      "source": [
        "trainset.groupby(\"issue_label\").size()"
      ]
    },
    {
      "cell_type": "markdown",
      "source": [
        "## Setup Preprocessing"
      ],
      "metadata": {
        "id": "-BRNFeSDdwEi"
      }
    },
    {
      "cell_type": "code",
      "execution_count": null,
      "metadata": {
        "id": "lvoFe_-DzDNO"
      },
      "outputs": [],
      "source": [
        "# remember to match this !\\[(.*)\\]\\(.*\\) and other markdown things\n",
        "\n",
        "text_processor = TextPreProcessor(\n",
        "    # terms that will be normalized\n",
        "    normalize=['url', 'email', 'percent', 'money', 'phone', 'user',\n",
        "        'time', 'url', 'date', 'number'],\n",
        "    # terms that will be annotated\n",
        "    annotate={\"hashtag\", \"allcaps\", \"elongated\", \"repeated\",\n",
        "        'emphasis', 'censored'},\n",
        "    fix_html=True,  # fix HTML tokens\n",
        "    \n",
        "    # corpus from which the word statistics are going to be used \n",
        "    # for word segmentation \n",
        "    segmenter=\"twitter\", \n",
        "    \n",
        "    # corpus from which the word statistics are going to be used \n",
        "    # for spell correction\n",
        "    corrector=\"twitter\", \n",
        "    \n",
        "    unpack_hashtags=True,  # perform word segmentation on hashtags\n",
        "    unpack_contractions=True,  # Unpack contractions (can't -> can not)\n",
        "    spell_correct_elong=False,  # spell correction for elongated words\n",
        "    \n",
        "    # select a tokenizer. You can use SocialTokenizer, or pass your own\n",
        "    # the tokenizer, should take as input a string and return a list of tokens\n",
        "    tokenizer=SocialTokenizer(lowercase=True).tokenize,\n",
        "    \n",
        "    # list of dictionaries, for replacing tokens extracted from the text,\n",
        "    # with other expressions. You can pass more than one dictionaries.\n",
        "    dicts=[emoticons]\n",
        ")\n",
        "\n",
        "img_1 = re.compile('!\\[(.*)\\]\\(.*\\)')\n",
        "link_1 = re.compile('\\[(.*)\\]\\(.*\\)')\n",
        "link_2 = re.compile('\\[(.*)\\]: [^\\s]+')\n",
        "code_1 = re.compile('(:?`[^`]+`|```[^`]*```)')\n",
        "\n",
        "def preprocess(row):\n",
        "  # concatenate title and body, then remove whitespaces\n",
        "  doc = \"\"\n",
        "  doc += str(row.issue_title)\n",
        "  doc += \" \"\n",
        "  doc += str(row.issue_body)\n",
        "  return clean_text(doc)\n",
        "\n",
        "def clean_text(text):\n",
        "  cleaned = re.sub(img_1, r'\\1 <img>', text)\n",
        "  cleaned = re.sub(link_1, r'\\1 <url>', cleaned)\n",
        "  cleaned = re.sub(link_2, r'\\1 <url>', cleaned)\n",
        "  cleaned = re.sub(code_1, '<code>', cleaned)\n",
        "  ekph_cleaned = \" \".join(text_processor.pre_process_doc(cleaned))\n",
        "  return ekph_cleaned\n"
      ]
    },
    {
      "cell_type": "code",
      "execution_count": null,
      "metadata": {
        "id": "lNZwcr3c1AVK"
      },
      "outputs": [],
      "source": [
        "def encode_text(corpus, tokenizer):\n",
        "    input_ids = []\n",
        "    max_length = 128\n",
        "\n",
        "\n",
        "    for sent in tqdm(corpus):\n",
        "        encoded_sent = tokenizer.encode(\n",
        "            sent,\n",
        "            add_special_tokens = True,\n",
        "            max_length = max_length)  # orignal value 512\n",
        "        \n",
        "        input_ids.append(encoded_sent)\n",
        "\n",
        "    input_ids = pad_sequences(input_ids, maxlen = max_length, dtype = \"long\",\n",
        "                                    value = tokenizer.pad_token_id, truncating = \"pre\", padding = \"pre\")\n",
        "\n",
        "    return input_ids"
      ]
    },
    {
      "cell_type": "code",
      "execution_count": null,
      "metadata": {
        "id": "wOB7pqdx1Mxg"
      },
      "outputs": [],
      "source": [
        "def create_attention_masks(input_ids):\n",
        "    attention_masks = []\n",
        "\n",
        "    # For each tweet in the training set\n",
        "    for sent in tqdm(input_ids):\n",
        "        # Create the attention mask.\n",
        "        #   - If a token ID is 0, then it's padding, set the mask to 0.\n",
        "        #   - If a token ID is > 0, then it's a real token, set the mask to 1.\n",
        "        att_mask = [int(token_id > 0) for token_id in sent]\n",
        "\n",
        "        # Store the attention mask for this sentence.\n",
        "        attention_masks.append(att_mask)\n",
        "    return attention_masks"
      ]
    },
    {
      "cell_type": "markdown",
      "source": [
        "## Utilities to get the data"
      ],
      "metadata": {
        "id": "ueGBW-G9d-Vi"
      }
    },
    {
      "cell_type": "code",
      "execution_count": null,
      "metadata": {
        "id": "K07GtdDEb2jb"
      },
      "outputs": [],
      "source": [
        "def get_data(df):\n",
        "  text = []\n",
        "  labels = []\n",
        "  ids = []\n",
        "  for row in tqdm(df.itertuples(), desc=\"Getting data...\", total=len(df)):\n",
        "    text.append(preprocess(row))\n",
        "    labels.append(row.issue_label)\n",
        "    ids.append(row[0])\n",
        "  return text, labels, ids\n",
        "\n",
        "def get_labels(df):\n",
        "  labels = []\n",
        "  for row in tqdm(df.itertuples(), desc=\"Getting data...\", total=len(df)):\n",
        "    labels.append(row.issue_label)\n",
        "  return labels"
      ]
    },
    {
      "cell_type": "markdown",
      "source": [
        "## Pick a seed for reproducible experiments"
      ],
      "metadata": {
        "id": "qaUzLdvwfhJB"
      }
    },
    {
      "cell_type": "code",
      "execution_count": null,
      "metadata": {
        "id": "TG8I53Xm1amh"
      },
      "outputs": [],
      "source": [
        "seed_val = 42\n",
        "random.seed(seed_val)\n",
        "np.random.seed(seed_val)\n",
        "torch.manual_seed(seed_val)\n",
        "torch.cuda.manual_seed_all(seed_val)\n",
        "\n",
        "print('Using seed: {}'.format(seed_val))"
      ]
    },
    {
      "cell_type": "code",
      "execution_count": null,
      "metadata": {
        "id": "_WQguof7bHzB"
      },
      "outputs": [],
      "source": [
        "dateTimeObj = str(dt.now()).replace(\" \", \"_\")\n",
        "\n",
        "model_name = \"roberta-base\"\n",
        "# Change model_dir if you want to load a custom model\n",
        "model_dir = model_name\n",
        "\n",
        "# -----------------------------\n",
        "# Load Pre-trained BERT model\n",
        "# -----------------------------\n",
        "config_class = AutoConfig\n",
        "model_class = AutoModelForSequenceClassification\n",
        "tokenizer_class = AutoTokenizer\n",
        "\n",
        "\n",
        "device = torch.device(\"cuda\" if torch.cuda.is_available() else \"cpu\")\n",
        "# Load a trained model and vocabulary pre-trained for specific language\n",
        "print(\"Loading model\")\n",
        "\n",
        "# Load pre-trained Tokenizer from directory, change this to load a tokenizer from ber package\n",
        "tokenizer = tokenizer_class.from_pretrained(model_dir)\n",
        "\n",
        "# Load Bert for classification 'container'\n",
        "model = model_class.from_pretrained(\n",
        "     model_dir, # Use pre-trained model from its directory, change this to use a pre-trained model from bert\n",
        "     num_labels = 3, # The number of output labels--2 for binary classification.\n",
        "                     # You can increase this for multi-class tasks.\n",
        "     output_attentions = False, # Whether the model returns attentions weights.\n",
        "     output_hidden_states = False, # Whether the model returns all hidden-states.\n",
        "     ignore_mismatched_sizes=True,\n",
        ")\n",
        "\n",
        "# Set the model to work on CPU if no GPU is present\n",
        "model.to(device)\n",
        "print(\"Model loaded!\")"
      ]
    },
    {
      "cell_type": "markdown",
      "source": [
        "## Setup directory for storing data"
      ],
      "metadata": {
        "id": "jkiqU1JhCa6h"
      }
    },
    {
      "cell_type": "code",
      "execution_count": null,
      "metadata": {
        "id": "nb4-uNjHdNh8"
      },
      "outputs": [],
      "source": [
        "data_folder = os.path.join(*[prefix_dir, 'NLBSE', 'data'])"
      ]
    },
    {
      "cell_type": "markdown",
      "source": [
        "## Preprocess data"
      ],
      "metadata": {
        "id": "LFhAYig4CfI9"
      }
    },
    {
      "cell_type": "code",
      "execution_count": null,
      "metadata": {
        "id": "RYmDXRTQbVYU"
      },
      "outputs": [],
      "source": [
        "train_set, train_labs, _ = get_data(trainset)\n",
        "\n",
        "train_ids = encode_text(train_set, tokenizer)\n",
        "train_masks = create_attention_masks(train_ids)"
      ]
    },
    {
      "cell_type": "markdown",
      "source": [
        "## Serialize preprocessing output\n",
        "Preprocessing can take some time, so serialization is good if you have to run multiple experiments.\n",
        "\n"
      ],
      "metadata": {
        "id": "FYEGJ9cMgHHK"
      }
    },
    {
      "cell_type": "code",
      "execution_count": null,
      "metadata": {
        "id": "zsFXgdWLwdX2"
      },
      "outputs": [],
      "source": [
        "# serialize\n",
        "with open(data_folder + 'train_set.json', 'w') as f:\n",
        "    json.dump(train_set, f)\n",
        "with open(data_folder + 'train_labs.json', 'w') as f:\n",
        "    json.dump(train_labs, f)"
      ]
    },
    {
      "cell_type": "markdown",
      "source": [
        "Labels are textual, so we encode them"
      ],
      "metadata": {
        "id": "hRpsYhqJCphW"
      }
    },
    {
      "cell_type": "code",
      "execution_count": null,
      "metadata": {
        "id": "5-hNhuIJuz3y"
      },
      "outputs": [],
      "source": [
        "lenc = LabelEncoder()\n",
        "train_labs = lenc.fit_transform(train_labs)"
      ]
    },
    {
      "cell_type": "markdown",
      "source": [
        "## Undersampling\n",
        "Undersampling can be enabled, but the best performances are achieved without it."
      ],
      "metadata": {
        "id": "Biqvj3xJC6Ns"
      }
    },
    {
      "cell_type": "code",
      "execution_count": null,
      "metadata": {
        "id": "cNTB79afbzJ0"
      },
      "outputs": [],
      "source": [
        "from imblearn.under_sampling import RandomUnderSampler\n",
        "undersampling = False # @param [\"True\",\"False\"]\n",
        "test_size =  0.1\n",
        "\n",
        "if undersampling:\n",
        "  rus = RandomUnderSampler(sampling_strategy = 'not minority', random_state = seed_val)\n",
        "  train_ids, train_labs_re = rus.fit_resample(train_ids, train_labs)\n",
        "  train_masks, train_labs_re1 = rus.fit_resample(train_masks, train_labs)\n",
        "  train_labs = train_labs_re\n"
      ]
    },
    {
      "cell_type": "markdown",
      "source": [
        "## Set this to true if you want to use validation set"
      ],
      "metadata": {
        "id": "0nCXbBKDgsht"
      }
    },
    {
      "cell_type": "code",
      "source": [
        "validation = False"
      ],
      "metadata": {
        "id": "WYnJC4Ddg1t7"
      },
      "execution_count": null,
      "outputs": []
    },
    {
      "cell_type": "code",
      "source": [
        "if validation:\n",
        "  train_inputs, validation_inputs, train_labels, validation_labels = train_test_split(\n",
        "      train_ids, train_labs, random_state=seed_val, test_size=test_size, stratify=train_labs\n",
        "      )\n",
        "  train_masks, validation_masks, _, _ = train_test_split(\n",
        "      train_masks, train_labs, random_state=seed_val, test_size=test_size, stratify=train_labs\n",
        "      )\n",
        "else:\n",
        "  train_inputs, train_labels, train_masks = train_ids, train_labs, train_masks"
      ],
      "metadata": {
        "id": "_C8d75YDg30O"
      },
      "execution_count": null,
      "outputs": []
    },
    {
      "cell_type": "code",
      "execution_count": null,
      "metadata": {
        "id": "T_GGzWeje0Yb"
      },
      "outputs": [],
      "source": [
        "if validation: \n",
        "  validation_inputs = torch.tensor(validation_inputs)\n",
        "  validation_labels = torch.tensor(validation_labels)\n",
        "  validation_masks = torch.tensor(validation_masks)\n",
        "train_inputs = torch.tensor(train_inputs)\n",
        "train_labels = torch.tensor(train_labels)\n",
        "train_masks = torch.tensor(train_masks)\n"
      ]
    },
    {
      "cell_type": "markdown",
      "source": [
        "## Create directory for saving the model"
      ],
      "metadata": {
        "id": "iVZ4dDLCDGpp"
      }
    },
    {
      "cell_type": "code",
      "execution_count": null,
      "metadata": {
        "id": "dqJjFZtuBMhL"
      },
      "outputs": [],
      "source": [
        "if undersampling:\n",
        "  und_str = 'und'\n",
        "else: \n",
        "  und_str = ''\n",
        "\n",
        "# Directory in which the model will be saved along with the log\n",
        "output_model_dir = os.path.join(*[prefix_dir, 'NLBSE', 'models', model_name.replace('/', ''), dateTimeObj + \"_SEED_\" + str(seed_val) + und_str])\n",
        "\n",
        "# Make dir for model serializations\n",
        "os.makedirs(os.path.dirname(output_model_dir), exist_ok=True)"
      ]
    },
    {
      "cell_type": "markdown",
      "source": [
        "## Create Dataloaders for training"
      ],
      "metadata": {
        "id": "2UewayzWDPCO"
      }
    },
    {
      "cell_type": "code",
      "execution_count": null,
      "metadata": {
        "id": "fXTSTUdve1O2"
      },
      "outputs": [],
      "source": [
        "batch_size = 32\n",
        "\n",
        "# Create the DataLoader for our training set.\n",
        "train_data = TensorDataset(train_inputs, train_masks, train_labels)\n",
        "train_sampler = RandomSampler(train_data)\n",
        "train_dataloader = DataLoader(train_data, sampler=train_sampler, batch_size=batch_size)\n",
        "\n",
        "if validation: \n",
        "  # Create the DataLoader for our validation set.\n",
        "  validation_data = TensorDataset(validation_inputs, validation_masks, validation_labels)\n",
        "  validation_sampler = SequentialSampler(validation_data)\n",
        "  # Note that the number of batch has to be the same, this means that we have to aggregate results in the end\n",
        "  validation_dataloader = DataLoader(validation_data, sampler=validation_sampler, batch_size=batch_size)\n"
      ]
    },
    {
      "cell_type": "code",
      "execution_count": null,
      "metadata": {
        "id": "Rbtt78SQe8hh"
      },
      "outputs": [],
      "source": [
        "# --------------------------------------------------------------------\n",
        "# -------------- Optimizer and Learning Rate Scheduler ---------------\n",
        "# --------------------------------------------------------------------\n",
        "\n",
        "optimizer = AdamW(model.parameters(),\n",
        "                  lr=2e-5,\n",
        "                  eps=1e-8\n",
        "                )\n",
        "\n",
        "# Number of training epochs\n",
        "epochs = 4\n",
        "\n",
        "# Total number of training steps is number of batches * number of epochs.\n",
        "total_steps = len(train_dataloader) * epochs\n",
        "\n",
        "# Create the learning rate scheduler.\n",
        "scheduler = get_linear_schedule_with_warmup(optimizer,\n",
        "                                            num_warmup_steps=0,\n",
        "                                            num_training_steps=total_steps)"
      ]
    },
    {
      "cell_type": "code",
      "execution_count": null,
      "metadata": {
        "id": "wCr2fGTI1VMg"
      },
      "outputs": [],
      "source": [
        "def flat_accuracy(preds, labels):\n",
        "    pred_flat = np.argmax(preds, axis=1).flatten()\n",
        "    labels_flat = labels.flatten()\n",
        "    return np.sum(pred_flat == labels_flat) / len(labels_flat)"
      ]
    },
    {
      "cell_type": "code",
      "execution_count": null,
      "metadata": {
        "id": "tSOOPNd-1F27"
      },
      "outputs": [],
      "source": [
        "def format_time(elapsed):\n",
        "    '''\n",
        "    Takes a time in seconds and returns a string hh:mm:ss\n",
        "    '''\n",
        "    # Round to the nearest second.\n",
        "    elapsed_rounded = int(round((elapsed)))\n",
        "\n",
        "    # Format as hh:mm:ss\n",
        "    return str(datetime.timedelta(seconds=elapsed_rounded))"
      ]
    },
    {
      "cell_type": "code",
      "execution_count": null,
      "metadata": {
        "id": "wFoH95TifC38"
      },
      "outputs": [],
      "source": [
        "# Store the average loss after each epoch\n",
        "loss_values = []\n",
        "\n",
        "# For each epoch...\n",
        "for epoch_i in tqdm(range(0, epochs), desc=\"Training\"):\n",
        "\n",
        "    # ========================================\n",
        "    #               Training\n",
        "    # ========================================\n",
        "\n",
        "    # Store true lables for global eval\n",
        "    gold_labels = []\n",
        "    # Store  predicted labels for global eval\n",
        "    predicted_labels = []\n",
        "\n",
        "    # Perform one full pass over the training set.\n",
        "\n",
        "    print(\"\")\n",
        "    print('======== Epoch {:} / {:} ========'.format(epoch_i + 1, epochs))\n",
        "    print('Training...')\n",
        "\n",
        "    # Measure how long the training epoch takes.\n",
        "    t0 = time.time()\n",
        "\n",
        "    # Reset the total loss for this epoch.\n",
        "    total_loss = 0\n",
        "\n",
        "    model.train()\n",
        "\n",
        "    for step, batch in tqdm(enumerate(train_dataloader), desc=\"Batch\"):\n",
        "\n",
        "        # Progress update every 40 batches.\n",
        "        if step % 40 == 0 and not step == 0:\n",
        "            # Calculate elapsed time in minutes.\n",
        "            elapsed = format_time(time.time() - t0)\n",
        "\n",
        "            # Report progress.\n",
        "            print('  Batch {:>5,}  of  {:>5,}.    Elapsed: {:}.'.format(step, len(train_dataloader), elapsed))\n",
        "\n",
        "        # Unpack this training batch from our dataloader.\n",
        "        #\n",
        "        # As we unpack the batch, we'll also copy each tensor to the GPU using the\n",
        "        # `to` method.\n",
        "        #\n",
        "        # `batch` contains three pytorch tensors:\n",
        "        #   [0]: input ids\n",
        "        #   [1]: attention masks\n",
        "        #   [2]: labels\n",
        "        b_input_ids = batch[0].to(device)\n",
        "        b_input_mask = batch[1].to(device)\n",
        "        b_labels = batch[2].to(device)\n",
        "\n",
        "        # Always clear any previously calculated gradients before performing a\n",
        "        # backward pass. PyTorch doesn't do this automatically.\n",
        "        model.zero_grad()\n",
        "\n",
        "        # Perform a forward pass (evaluate the model on this training batch).\n",
        "        # This will return the loss (rather than the model output) because we\n",
        "        # have provided the `labels`.\n",
        "        outputs = model(b_input_ids,\n",
        "                        token_type_ids=None,\n",
        "                        attention_mask=b_input_mask,\n",
        "                        labels=b_labels)\n",
        "\n",
        "        # The call to `model` always returns a tuple, so we need to pull the\n",
        "        # loss value out of the tuple.\n",
        "        loss = outputs[0]\n",
        "\n",
        "        # Accumulate the training loss over all of the batches so that we can\n",
        "        # calculate the average loss at the end. `loss` is a Tensor containing a\n",
        "        # single value; the `.item()` function just returns the Python value\n",
        "        # from the tensor.\n",
        "        total_loss += loss.item()\n",
        "\n",
        "        # Perform a backward pass to calculate the gradients.\n",
        "        loss.backward()\n",
        "\n",
        "        # Clip the norm of the gradients to 1.0.\n",
        "        # This is to help prevent the \"exploding gradients\" problem.\n",
        "        torch.nn.utils.clip_grad_norm_(model.parameters(), 1.0)\n",
        "\n",
        "        # Update parameters and take a step using the computed gradient.\n",
        "        # The optimizer dictates the \"update rule\"--how the parameters are\n",
        "        # modified based on their gradients, the learning rate, etc.\n",
        "        optimizer.step()\n",
        "\n",
        "        # Update the learning rate.\n",
        "        scheduler.step()\n",
        "\n",
        "    # Calculate the average loss over the training data.\n",
        "    avg_train_loss = total_loss / len(train_dataloader)\n",
        "\n",
        "    # Store the loss value for plotting the learning curve.\n",
        "    loss_values.append(avg_train_loss)\n",
        "\n",
        "    print(\"\")\n",
        "    print(\"  Average training loss: {0:.2f}\".format(avg_train_loss))\n",
        "    print(\"  Training epcoh took: {:}\".format(format_time(time.time() - t0)))\n",
        "    if validation:\n",
        "    \n",
        "      # ========================================\n",
        "      #               Validation\n",
        "      # ========================================\n",
        "      # After the completion of each training epoch, measure our performance on\n",
        "      # our validation set.\n",
        "\n",
        "      print(\"\")\n",
        "      print(\"Running Validation...\")\n",
        "\n",
        "      t0 = time.time()\n",
        "\n",
        "      # Put the model in evaluation mode--the dropout layers behave differently\n",
        "      # during evaluation.\n",
        "      model.eval()\n",
        "\n",
        "      # Tracking variables\n",
        "      eval_loss, eval_accuracy = 0, 0\n",
        "      nb_eval_steps, nb_eval_examples = 0, 0\n",
        "\n",
        "      # Evaluate data for one epoch\n",
        "      for batch in validation_dataloader:\n",
        "          # Add batch to GPU/CPU\n",
        "          batch = tuple(t.to(device) for t in batch)\n",
        "\n",
        "          # Unpack the inputs from our dataloader\n",
        "          b_input_ids, b_input_mask, b_labels = batch\n",
        "\n",
        "          # Telling the model not to compute or store gradients, saving memory and\n",
        "          # speeding up validation\n",
        "          with torch.no_grad():\n",
        "              # Forward pass, calculate logit predictions.\n",
        "              # This will return the logits rather than the loss because we have\n",
        "              # not provided labels.\n",
        "              # token_type_ids is the same as the \"segment ids\", which\n",
        "              # differentiates sentence 1 and 2 in 2-sentence tasks.\n",
        "              # The documentation for this `model` function is here:\n",
        "              # https://huggingface.co/transformers/v2.2.0/model_doc/bert.html#transformers.BertForSequenceClassification\n",
        "              outputs = model(b_input_ids,\n",
        "                              token_type_ids=None,\n",
        "                              attention_mask=b_input_mask)\n",
        "\n",
        "          # Get the \"logits\" output by the model. The \"logits\" are the output\n",
        "          # values prior to applying an activation function like the softmax.\n",
        "          logits = outputs[0]\n",
        "\n",
        "          # Move logits and labels to CPU\n",
        "          logits = logits.detach().cpu().numpy()\n",
        "          label_ids = b_labels.to('cpu').numpy()\n",
        "\n",
        "          # Calculate the accuracy for this batch of test sentences.\n",
        "          tmp_eval_accuracy = flat_accuracy(logits, label_ids)\n",
        "\n",
        "          # Accumulate the total accuracy.\n",
        "          eval_accuracy += tmp_eval_accuracy\n",
        "\n",
        "          # Track the number of batches\n",
        "          nb_eval_steps += 1\n",
        "\n",
        "          pred_flat = np.argmax(logits, axis=1).flatten()\n",
        "          labels_flat = label_ids.flatten()\n",
        "\n",
        "          # Store gold labels single list\n",
        "          gold_labels.extend(labels_flat)\n",
        "          # Store predicted labels single list\n",
        "          predicted_labels.extend(pred_flat)\n",
        "\n",
        "          # The classification report is printed on the log, note that print one report for each validation epoch,\n",
        "          # if we want to compute an average P/R/F1 we can do the same as accuracy, that is an accumulator that\n",
        "          # stores P/R over epochs or compute the average at the end\n",
        "\n",
        "          print(classification_report(labels_flat,pred_flat, digits=4))\n",
        "\n",
        "    # ------------------------------------------------------------------------------------------------------------------\n",
        "    # Todo: Cut code until here to remove the validation step\n",
        "    # ------------------------------------------------------------------------------------------------------------------\n",
        "\n",
        "    # Report the final accuracy for this validation run.\n",
        "    if validation:\n",
        "      print(\"  Accuracy: {0:.2f}\".format(eval_accuracy / nb_eval_steps))\n",
        "      print(\"  Validation took: {:}\".format(format_time(time.time() - t0)))\n",
        "\n",
        "    print(\"\")\n",
        "    print(\"Evaluation on validation set\")\n",
        "    print(\"Gold labels\" + str(len(gold_labels)))\n",
        "    print(\"Predicted labels\" + str(len(predicted_labels)))\n",
        "    cr = classification_report(gold_labels,predicted_labels, digits=4, output_dict=True)\n",
        "    print(cr)\n",
        "    f1_m = f1_score(gold_labels, predicted_labels, average='micro')\n",
        "    print('f1_micro = {}'.format(f1_m))\n",
        "\n",
        "\n",
        "    chkpt_path = os.path.join(*[output_model_dir, 'chkpt' + str(epoch_i+1)])\n",
        "    os.makedirs(chkpt_path, exist_ok=True)\n",
        "    optimizer_path = os.path.join(chkpt_path, \"optimizer\")\n",
        "    os.makedirs(optimizer_path, exist_ok=True)\n",
        "\n",
        "\n",
        "    with open(os.path.join(chkpt_path, 'val_cr_report.json'), 'w') as f:\n",
        "      json.dump(cr, f)\n",
        "\n",
        "    torch.save(optimizer.state_dict(), os.path.join(optimizer_path, 'optimizer_state.pt'))\n",
        "    model_to_save = (model.module if hasattr(model, \"module\") else model)\n",
        "    model_to_save.save_pretrained(chkpt_path)\n",
        "    tokenizer.save_pretrained(chkpt_path)\n",
        "\n",
        "\n",
        "print(\"\")\n",
        "print(\"Training complete!\")\n",
        "\n",
        "print(\"Saving model to: \" + output_model_dir)\n",
        "model_to_save = (\n",
        "    model.module if hasattr(model, \"module\") else model\n",
        ")\n",
        "model_to_save.save_pretrained(output_model_dir)\n",
        "tokenizer.save_pretrained(output_model_dir)"
      ]
    },
    {
      "cell_type": "markdown",
      "source": [
        "## Load test set"
      ],
      "metadata": {
        "id": "lpr12rq-jTGk"
      }
    },
    {
      "cell_type": "code",
      "execution_count": null,
      "metadata": {
        "id": "CpxClrOjc-9-"
      },
      "outputs": [],
      "source": [
        "if not os.path.isfile(\"github-labels-top3-803k-test.csv\"):\n",
        "  !curl \"https://tickettagger.blob.core.windows.net/datasets/github-labels-top3-803k-test.tar.gz\" | tar -xz\n",
        "\n",
        "testset = pd.read_csv(\"github-labels-top3-803k-test.csv\")"
      ]
    },
    {
      "cell_type": "code",
      "source": [
        "testset.groupby(\"issue_label\").size()"
      ],
      "metadata": {
        "id": "gwyGnXDXE-Lk"
      },
      "execution_count": null,
      "outputs": []
    },
    {
      "cell_type": "markdown",
      "source": [
        "## Load model to test"
      ],
      "metadata": {
        "id": "IvgS5CzfFoIB"
      }
    },
    {
      "cell_type": "code",
      "execution_count": null,
      "metadata": {
        "id": "q9tw2vq-jbZZ"
      },
      "outputs": [],
      "source": [
        "model_dir = output_model_dir\n",
        "\n",
        "config_class = AutoConfig\n",
        "model_class = AutoModelForSequenceClassification\n",
        "tokenizer_class = AutoTokenizer\n",
        "\n",
        "device = torch.device(\"cuda\" if torch.cuda.is_available() else \"cpu\")\n",
        "\n",
        "print(\"Loading model from: '\" + model_dir + \"', it may take a while...\")\n",
        "\n",
        "tokenizer = tokenizer_class.from_pretrained(model_dir)\n",
        "\n",
        "model = model_class.from_pretrained(\n",
        "    model_dir,\n",
        "    num_labels = 3,  \n",
        "    output_attentions = False,\n",
        "    output_hidden_states = False, \n",
        ")\n",
        "\n",
        "model.to(device)\n",
        "print(\"Model has been loaded!\")\n",
        "\n",
        "model.to(device)"
      ]
    },
    {
      "cell_type": "markdown",
      "source": [
        "## Preprocess test set"
      ],
      "metadata": {
        "id": "13G7jx7TFwu4"
      }
    },
    {
      "cell_type": "code",
      "execution_count": null,
      "metadata": {
        "id": "7JMEircEjhbn"
      },
      "outputs": [],
      "source": [
        "test_tweets, test_labs, tweet_ids = get_data(testset)\n",
        "test_ids = encode_text(test_tweets, tokenizer)\n",
        "test_masks = create_attention_masks(test_ids)\n",
        "\n",
        "with open(data_folder + 'test_set.json', 'w') as f:\n",
        "    json.dump(test_tweets, f)\n",
        "with open(data_folder + 'test_labs.json', 'w') as f:\n",
        "    json.dump(test_labs, f)\n",
        "\n",
        "test_labs = lenc.transform(test_labs)\n",
        "\n",
        "prediction_inputs = torch.tensor(test_ids)\n",
        "\n",
        "prediction_masks = torch.tensor(test_masks)\n",
        "\n",
        "label_encoder = LabelEncoder()\n",
        "targets = label_encoder.fit_transform(tweet_ids)\n",
        "\n",
        "prediction_ids = torch.as_tensor(targets)"
      ]
    },
    {
      "cell_type": "markdown",
      "source": [
        "## Set up Dataloaders for testing"
      ],
      "metadata": {
        "id": "PcBgk2G0F0Cp"
      }
    },
    {
      "cell_type": "code",
      "execution_count": null,
      "metadata": {
        "id": "nnUeKnuRjo94"
      },
      "outputs": [],
      "source": [
        "# Set the batch size.\n",
        "batch_size = 32\n",
        "\n",
        "prediction_data = TensorDataset(prediction_inputs, prediction_masks, prediction_ids)\n",
        "prediction_sampler = SequentialSampler(prediction_data)\n",
        "prediction_dataloader = DataLoader(prediction_data, sampler=prediction_sampler, batch_size=batch_size)"
      ]
    },
    {
      "cell_type": "markdown",
      "source": [
        "## Run testing phase"
      ],
      "metadata": {
        "id": "K6N2KAv_GWqX"
      }
    },
    {
      "cell_type": "code",
      "execution_count": null,
      "metadata": {
        "id": "tUzv3hdLhWOO"
      },
      "outputs": [],
      "source": [
        "print('Predicting labels for {:,} test sentences...'.format(len(prediction_inputs)))\n",
        "\n",
        "# Put model in evaluation mode\n",
        "model.eval()\n",
        "\n",
        "# Tracking variables\n",
        "predictions = []\n",
        "\n",
        "# Predict\n",
        "for batch in tqdm(prediction_dataloader):\n",
        "    # Add batch to GPU\n",
        "    batch = tuple(t.to(device) for t in batch)\n",
        "\n",
        "    # Unpack the inputs from our dataloader\n",
        "    b_input_ids, b_input_mask, b_tweet_ids = batch\n",
        "\n",
        "    # Telling the model not to compute or store gradients, saving memory and\n",
        "    # speeding up prediction\n",
        "    with torch.no_grad():\n",
        "        # Forward pass, calculate logit predictions\n",
        "        outputs = model(b_input_ids, token_type_ids=None,\n",
        "                        attention_mask=b_input_mask)\n",
        "\n",
        "    logits = outputs[0]\n",
        "\n",
        "    # Move logits and labels to CPU\n",
        "    logits = logits.detach().cpu().numpy()\n",
        "\n",
        "    flat_logits = np.argmax(logits, axis=1).flatten()\n",
        "    # Get tweet ids for prediction output\n",
        "    ids = label_encoder.inverse_transform(b_tweet_ids.cpu().numpy())\n",
        "    # Store predictions and true labels\n",
        "    predictions.extend(list(zip(ids, flat_logits)))\n",
        "\n",
        "# Print the list of prediction & store for evaluation\n",
        "with open(model_dir + 'output_test.csv', 'w') as out_file:\n",
        "    # store predictions in list for eval\n",
        "    pred_ = []\n",
        "    # Get each tweet id\n",
        "    for tweet_id_prediction in predictions:\n",
        "        label = tweet_id_prediction[1]\n",
        "        pred_.append(label)\n",
        "        out_file.write(str(tweet_id_prediction[0]) + \",\" + str(label) + '\\n')"
      ]
    },
    {
      "cell_type": "markdown",
      "source": [
        "## Results:"
      ],
      "metadata": {
        "id": "XwwCPvDfGcOB"
      }
    },
    {
      "cell_type": "code",
      "source": [
        "cr = classification_report(test_labs,pred_, digits=4, output_dict=True)\n",
        "\n",
        "print(classification_report(test_labs,pred_, digits=4))\n",
        "\n",
        "with open(os.path.join(model_dir, \"cr_report.csv\"), 'w') as f:\n",
        "  json.dump(cr, f)\n",
        "\n",
        "f1_m = f1_score(test_labs, pred_, average='micro')\n",
        "print('f1_micro = {}'.format(f1_m))"
      ],
      "metadata": {
        "id": "vKQOpkoWGbrF"
      },
      "execution_count": null,
      "outputs": []
    },
    {
      "cell_type": "code",
      "execution_count": null,
      "metadata": {
        "id": "ZplzmhlR7yIG"
      },
      "outputs": [],
      "source": [
        "cm = confusion_matrix(test_labs, pred_)\n",
        "print(cm)"
      ]
    }
  ],
  "metadata": {
    "accelerator": "GPU",
    "colab": {
      "collapsed_sections": [],
      "name": "NLBSE_Submission_Classifier1.ipynb",
      "provenance": []
    },
    "kernelspec": {
      "display_name": "Python 3",
      "name": "python3"
    },
    "language_info": {
      "name": "python"
    }
  },
  "nbformat": 4,
  "nbformat_minor": 0
}