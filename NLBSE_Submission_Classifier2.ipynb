{
 "cells": [
  {
   "cell_type": "markdown",
   "source": [
    "# NLBSE2022 Tool Competition Submission\n",
    "\n",
    "For the NLBSE2022 Tool Competition, our team from *University of Bari* built two classifiers. This is the second one, based on *Multi-layer Perceptron*, using RoBERTa embeddings together with the non-textual information of *issue-author association* one-hot encoded."
   ],
   "metadata": {
    "id": "Jgl5KbpVNgh0",
    "pycharm": {
     "name": "#%% md\n"
    }
   }
  },
  {
   "cell_type": "markdown",
   "source": [
    "## Set up persistent storage"
   ],
   "metadata": {
    "id": "RTvfhDx7csce",
    "pycharm": {
     "name": "#%% md\n"
    }
   }
  },
  {
   "cell_type": "code",
   "execution_count": null,
   "metadata": {
    "id": "SiYBZPLhFTDl",
    "pycharm": {
     "name": "#%%\n"
    }
   },
   "outputs": [],
   "source": [
    "from google.colab import drive\n",
    "drive.mount('/content/drive')\n",
    "\n",
    "prefix_dir = '/content/drive/MyDrive/'"
   ]
  },
  {
   "cell_type": "markdown",
   "source": [
    "## Check GPU"
   ],
   "metadata": {
    "id": "_PUZvYondOPf",
    "pycharm": {
     "name": "#%% md\n"
    }
   }
  },
  {
   "cell_type": "code",
   "execution_count": null,
   "metadata": {
    "id": "8quTKzeBzc0Z",
    "pycharm": {
     "name": "#%%\n"
    }
   },
   "outputs": [],
   "source": [
    "!nvidia-smi"
   ]
  },
  {
   "cell_type": "markdown",
   "source": [
    "## Install dependecies"
   ],
   "metadata": {
    "id": "vx2wqtkidZO8",
    "pycharm": {
     "name": "#%% md\n"
    }
   }
  },
  {
   "cell_type": "code",
   "execution_count": null,
   "metadata": {
    "id": "f0u8VYXWNImU",
    "pycharm": {
     "name": "#%%\n"
    }
   },
   "outputs": [],
   "source": [
    "!pip install ekphrasis\n",
    "!pip install transformers\n",
    "!pip install pandas\n",
    "!pip install sklearn\n",
    "!pip install numpy\n",
    "!pip install keras\n",
    "!pip install torch\n",
    "!pip install transformers"
   ]
  },
  {
   "cell_type": "markdown",
   "source": [
    "## Set up preprocessing"
   ],
   "metadata": {
    "id": "051Ly69OCHc0",
    "pycharm": {
     "name": "#%% md\n"
    }
   }
  },
  {
   "cell_type": "code",
   "execution_count": null,
   "metadata": {
    "id": "Bri6rJ3H2nee",
    "pycharm": {
     "name": "#%%\n"
    }
   },
   "outputs": [],
   "source": [
    "from ekphrasis.classes.preprocessor import TextPreProcessor\n",
    "from ekphrasis.classes.tokenizer import SocialTokenizer\n",
    "from ekphrasis.dicts.emoticons import emoticons\n",
    "import re\n",
    "\n",
    "text_processor = TextPreProcessor(\n",
    "    # terms that will be normalized\n",
    "    normalize=['url', 'email', 'percent', 'money', 'phone', 'user',\n",
    "        'time', 'url', 'date', 'number'],\n",
    "    # terms that will be annotated\n",
    "    annotate={\"hashtag\", \"allcaps\", \"elongated\", \"repeated\",\n",
    "        'emphasis', 'censored'},\n",
    "    fix_html=True,  # fix HTML tokens\n",
    "    \n",
    "    # corpus from which the word statistics are going to be used \n",
    "    # for word segmentation \n",
    "    segmenter=\"twitter\", \n",
    "    \n",
    "    # corpus from which the word statistics are going to be used \n",
    "    # for spell correction\n",
    "    corrector=\"twitter\", \n",
    "    \n",
    "    unpack_hashtags=True,  # perform word segmentation on hashtags\n",
    "    unpack_contractions=True,  # Unpack contractions (can't -> can not)\n",
    "    spell_correct_elong=False,  # spell correction for elongated words\n",
    "    \n",
    "    # select a tokenizer. You can use SocialTokenizer, or pass your own\n",
    "    # the tokenizer, should take as input a string and return a list of tokens\n",
    "    tokenizer=SocialTokenizer(lowercase=True).tokenize,\n",
    "    \n",
    "    # list of dictionaries, for replacing tokens extracted from the text,\n",
    "    # with other expressions. You can pass more than one dictionaries.\n",
    "    dicts=[emoticons]\n",
    ")\n",
    "\n",
    "img_1 = re.compile('!\\[(.*)\\]\\(.*\\)')\n",
    "link_1 = re.compile('\\[(.*)\\]\\(.*\\)')\n",
    "link_2 = re.compile('\\[(.*)\\]: [^\\s]+')\n",
    "code_1 = re.compile('(:?`[^`]+`|```[^`]*```)')\n",
    "\n",
    "def preprocess(row):\n",
    "  # concatenate title and body, then remove whitespaces\n",
    "  doc = \"\"\n",
    "  doc += str(row.issue_title)\n",
    "  doc += \" \"\n",
    "  doc += str(row.issue_body)\n",
    "  doc += \" \"\n",
    "  doc += \"<\" + str(row.issue_author_association) + \">\"\n",
    "\n",
    "  return clean_text(doc)\n",
    "\n",
    "def clean_text(text):\n",
    "  cleaned = re.sub(img_1, r'\\1 <img>', text)\n",
    "  cleaned = re.sub(link_1, r'\\1 <url>', cleaned)\n",
    "  cleaned = re.sub(link_2, r'\\1 <url>', cleaned)\n",
    "  cleaned = re.sub(code_1, '<code>', cleaned)\n",
    "  ekph_cleaned = \" \".join(text_processor.pre_process_doc(cleaned))\n",
    "  return ekph_cleaned\n"
   ]
  },
  {
   "cell_type": "code",
   "execution_count": null,
   "metadata": {
    "id": "XTgm6fDq6t-B",
    "pycharm": {
     "name": "#%%\n"
    }
   },
   "outputs": [],
   "source": [
    "from tqdm import tqdm\n",
    "from keras.preprocessing.sequence import pad_sequences\n",
    "def get_data(df):\n",
    "  text = []\n",
    "  labels = []\n",
    "  ids = []\n",
    "  for row in tqdm(df.itertuples(), desc=\"Getting data...\", total=len(df)):\n",
    "    text.append(preprocess(row))\n",
    "    labels.append(row.issue_label)\n",
    "    ids.append(row[0])\n",
    "  return text, labels, ids\n",
    "\n",
    "def get_labels(df):\n",
    "  labels = []\n",
    "  for row in tqdm(df.itertuples(), desc=\"Getting data...\", total=len(df)):\n",
    "    labels.append(row.issue_label)\n",
    "  return labels\n",
    "\n",
    "def encode_text(corpus, tokenizer):\n",
    "    input_ids = []\n",
    "    max_length = 128\n",
    "\n",
    "\n",
    "    for sent in tqdm(corpus):\n",
    "        encoded_sent = tokenizer.encode(\n",
    "            sent,\n",
    "            add_special_tokens = True,\n",
    "            max_length = max_length)  # orignal value 512\n",
    "        \n",
    "        input_ids.append(encoded_sent)\n",
    "\n",
    "    input_ids = pad_sequences(input_ids, maxlen = max_length, dtype = \"long\",\n",
    "                                    value = tokenizer.pad_token_id, truncating = \"pre\", padding = \"pre\")\n",
    "\n",
    "    return input_ids\n",
    "\n",
    "def create_attention_masks(input_ids):\n",
    "    attention_masks = []\n",
    "\n",
    "    # For each tweet in the training set\n",
    "    for sent in tqdm(input_ids):\n",
    "        # Create the attention mask.\n",
    "        #   - If a token ID is 0, then it's padding, set the mask to 0.\n",
    "        #   - If a token ID is > 0, then it's a real token, set the mask to 1.\n",
    "        att_mask = [int(token_id > 0) for token_id in sent]\n",
    "\n",
    "        # Store the attention mask for this sentence.\n",
    "        attention_masks.append(att_mask)\n",
    "    return attention_masks"
   ]
  },
  {
   "cell_type": "markdown",
   "source": [
    "## Get the data"
   ],
   "metadata": {
    "id": "w35kW1ibCKZr",
    "pycharm": {
     "name": "#%% md\n"
    }
   }
  },
  {
   "cell_type": "code",
   "execution_count": null,
   "metadata": {
    "id": "RkkcBGWd8Avw",
    "pycharm": {
     "name": "#%%\n"
    }
   },
   "outputs": [],
   "source": [
    "import os\n",
    "import pandas as pd\n",
    "\n",
    "if not os.path.isfile(\"github-labels-top3-803k-train.csv\"):\n",
    "  !curl \"https://tickettagger.blob.core.windows.net/datasets/github-labels-top3-803k-train.tar.gz\" | tar -xz\n",
    "\n",
    "trainset = pd.read_csv(\"github-labels-top3-803k-train.csv\")"
   ]
  },
  {
   "cell_type": "code",
   "execution_count": null,
   "metadata": {
    "id": "fW4ovmyb7_XX",
    "pycharm": {
     "name": "#%%\n"
    }
   },
   "outputs": [],
   "source": [
    "if not os.path.isfile(\"github-labels-top3-803k-test.csv\"):\n",
    "  !curl \"https://tickettagger.blob.core.windows.net/datasets/github-labels-top3-803k-test.tar.gz\" | tar -xz\n",
    "\n",
    "testset = pd.read_csv(\"github-labels-top3-803k-test.csv\")"
   ]
  },
  {
   "cell_type": "markdown",
   "source": [
    "## Load the model"
   ],
   "metadata": {
    "id": "9wg4qrCQCNru",
    "pycharm": {
     "name": "#%% md\n"
    }
   }
  },
  {
   "cell_type": "code",
   "execution_count": null,
   "outputs": [],
   "source": [
    "!git clone https://github.com/collab-uniba/Issue-Report-Classification-Using-RoBERTa"
   ],
   "metadata": {
    "collapsed": false,
    "pycharm": {
     "name": "#%%\n"
    }
   }
  },
  {
   "cell_type": "code",
   "execution_count": null,
   "metadata": {
    "id": "SS_FUH8t2cMn",
    "pycharm": {
     "name": "#%%\n"
    }
   },
   "outputs": [],
   "source": [
    "model_name = '/content/Issue-Report-Classification-Using-RoBERTa/RoBERTa finetuned - NLBSE2022 - archive/'  # can be a dir"
   ]
  },
  {
   "cell_type": "code",
   "execution_count": null,
   "metadata": {
    "id": "YD1ag4u72pPK",
    "pycharm": {
     "name": "#%%\n"
    }
   },
   "outputs": [],
   "source": [
    "from transformers import AutoConfig, AutoModel, AutoTokenizer\n",
    "import torch\n",
    "\n",
    "\n",
    "config_class = AutoConfig\n",
    "model_class = AutoModel\n",
    "tokenizer_class = AutoTokenizer\n",
    "\n",
    "# Load Bert for classification 'container'\n",
    "bert_model = model_class.from_pretrained(\n",
    "     model_name,\n",
    "     output_hidden_states = True,\n",
    "     ignore_mismatched_sizes=True,\n",
    ")\n",
    "\n",
    "# Set the model to work on GPU\n",
    "device = torch.device(\"cuda\")\n",
    "bert_model.to(device)\n",
    "print(device)\n",
    "\n",
    "tokenizer = tokenizer_class.from_pretrained(model_name)"
   ]
  },
  {
   "cell_type": "markdown",
   "source": [
    "## Preprocess data"
   ],
   "metadata": {
    "id": "pXmnV1lGCQGw",
    "pycharm": {
     "name": "#%% md\n"
    }
   }
  },
  {
   "cell_type": "code",
   "execution_count": null,
   "metadata": {
    "id": "l2gY0lgK7iOB",
    "pycharm": {
     "name": "#%%\n"
    }
   },
   "outputs": [],
   "source": [
    "data, labels, _ = get_data(trainset)\n",
    "inputs = encode_text(data, tokenizer)\n",
    "masks = create_attention_masks(inputs)"
   ]
  },
  {
   "cell_type": "code",
   "execution_count": null,
   "metadata": {
    "id": "Epc_nsQCFTDt",
    "pycharm": {
     "name": "#%%\n"
    }
   },
   "outputs": [],
   "source": [
    "from sklearn.preprocessing import LabelEncoder\n",
    "\n",
    "lenc = LabelEncoder()\n",
    "labels = lenc.fit_transform(labels)"
   ]
  },
  {
   "cell_type": "code",
   "execution_count": null,
   "metadata": {
    "id": "O1H3z_on3B90",
    "pycharm": {
     "name": "#%%\n"
    }
   },
   "outputs": [],
   "source": [
    "from torch.utils.data import DataLoader, Dataset, RandomSampler, SequentialSampler, TensorDataset\n",
    "\n",
    "batch_size = 32\n",
    "\n",
    "inputs = torch.tensor(inputs)\n",
    "labels = torch.tensor(labels)\n",
    "masks = torch.tensor(masks)\n",
    "\n",
    "# Create the DataLoader for our dataset\n",
    "data = TensorDataset(inputs, masks)\n",
    "sampler = SequentialSampler(data)\n",
    "dataloader = DataLoader(data, sampler=sampler, batch_size=batch_size, num_workers=2)"
   ]
  },
  {
   "cell_type": "markdown",
   "source": [
    "## Function to extract the embeddings given directory and dataloader"
   ],
   "metadata": {
    "id": "9J-583ndCTaF",
    "pycharm": {
     "name": "#%% md\n"
    }
   }
  },
  {
   "cell_type": "code",
   "execution_count": null,
   "metadata": {
    "id": "vP7FQ_qw3IDG",
    "pycharm": {
     "name": "#%%\n"
    }
   },
   "outputs": [],
   "source": [
    "from tqdm import tqdm\n",
    "import os\n",
    "\n",
    "def extract_embeddings(embed_dir, dataloader):\n",
    "    i = 0\n",
    "    for batch in tqdm(dataloader):\n",
    "        batch = tuple(t.to(device) for t in batch)\n",
    "\n",
    "        b_input_ids, b_input_mask = batch\n",
    "        with torch.no_grad():\n",
    "          outputs = bert_model(b_input_ids,\n",
    "                          token_type_ids=None,\n",
    "                          attention_mask=b_input_mask)\n",
    "        embeddings = [torch.squeeze(tensor).cpu() for tensor in outputs[\"pooler_output\"]]\n",
    "        for idx, x in enumerate(embeddings):\n",
    "          torch.save(x, os.path.join(embed_dir, str(i + idx)+'.pt'))\n",
    "        i += idx + 1"
   ]
  },
  {
   "cell_type": "markdown",
   "source": [
    "## Function to get the one hot encoding"
   ],
   "metadata": {
    "id": "M1MT607LCYj_",
    "pycharm": {
     "name": "#%% md\n"
    }
   }
  },
  {
   "cell_type": "code",
   "execution_count": null,
   "metadata": {
    "id": "8-uomOP-NlaE",
    "pycharm": {
     "name": "#%%\n"
    }
   },
   "outputs": [],
   "source": [
    "from sklearn.preprocessing import OneHotEncoder\n",
    "import numpy as np\n",
    "\n",
    "def get_one_hot(column, enc=None):\n",
    "    if enc is None:\n",
    "        enc = OneHotEncoder(handle_unknown='ignore')\n",
    "        X = np.reshape(column, (-1,1))\n",
    "        return enc.fit_transform(X).toarray(), enc\n",
    "    else:\n",
    "        X = np.reshape(column, (-1,1))\n",
    "        return enc.transform(X).toarray()"
   ]
  },
  {
   "cell_type": "markdown",
   "source": [
    "## Define model architecture"
   ],
   "metadata": {
    "id": "-hhVS75aCbNB",
    "pycharm": {
     "name": "#%% md\n"
    }
   }
  },
  {
   "cell_type": "code",
   "execution_count": null,
   "metadata": {
    "id": "fDUjLZk_Pauc",
    "pycharm": {
     "name": "#%%\n"
    }
   },
   "outputs": [],
   "source": [
    "import torch\n",
    "import torch.nn as nn\n",
    "\n",
    "bert_output_size = 768\n",
    "one_hot_size = 6\n",
    "input_size = bert_output_size + one_hot_size\n",
    "num_classes = 3\n",
    "\n",
    "hidden_size_2 = 256\n",
    "hidden_size_1 = 128\n",
    "class MLP(nn.Module):\n",
    "    def __init__(self, input_size, num_classes):\n",
    "        super(MLP, self).__init__()\n",
    "        self.fc1 = nn.Linear(input_size, hidden_size_2)  \n",
    "        self.relu = nn.ReLU()\n",
    "        self.fc2 = nn.Linear(hidden_size_2, hidden_size_1) \n",
    "        self.fc3 = nn.Linear(hidden_size_1, num_classes)\n",
    "    \n",
    "    def forward(self, x):\n",
    "        out = self.fc1(x)\n",
    "        out = self.relu(out)\n",
    "        out = self.fc2(out)\n",
    "        out = self.relu(out)\n",
    "        out = self.fc3(out)\n",
    "        return out"
   ]
  },
  {
   "cell_type": "markdown",
   "source": [
    "## Define dataset class"
   ],
   "metadata": {
    "id": "xJq6vn3kCdSp",
    "pycharm": {
     "name": "#%% md\n"
    }
   }
  },
  {
   "cell_type": "code",
   "execution_count": null,
   "metadata": {
    "id": "GM_y1-49Tq2I",
    "pycharm": {
     "name": "#%%\n"
    }
   },
   "outputs": [],
   "source": [
    "import os\n",
    "import torch\n",
    "\n",
    "class EmbedDataset(torch.utils.data.Dataset):\n",
    "    def __init__(self, embed_path, issue_author_association, labels):\n",
    "        self.embed_path = embed_path\n",
    "        self.issue_author_association = issue_author_association # already one hot encoded\n",
    "        self.labels = labels\n",
    "        assert len(os.listdir(self.embed_path)) == len(labels)\n",
    "\n",
    "    def __len__(self):\n",
    "        return len(self.labels)\n",
    "\n",
    "    def __getitem__(self, i):\n",
    "        label = self.labels[i]\n",
    "        issue_author_association = self.issue_author_association[i]      \n",
    "        embed = torch.load(os.path.join(self.embed_path, str(i) + '.pt'))\n",
    "        tensor = torch.cat((embed, torch.from_numpy(issue_author_association)))\n",
    "        return tensor, label\n",
    "    def get_targets(self):\n",
    "        return self.labels"
   ]
  },
  {
   "cell_type": "markdown",
   "source": [
    "## Define early stopping class with callback to get the model with best performance after stopping"
   ],
   "metadata": {
    "id": "Uihr_S4NCfG_",
    "pycharm": {
     "name": "#%% md\n"
    }
   }
  },
  {
   "cell_type": "code",
   "execution_count": null,
   "metadata": {
    "id": "uU5t7JexVEwV",
    "pycharm": {
     "name": "#%%\n"
    }
   },
   "outputs": [],
   "source": [
    "import torch\n",
    "import numpy as np\n",
    "\n",
    "\n",
    "class EarlyStopping:\n",
    "    \"\"\"Early stops the training if validation loss doesn't improve after a given number of consecutive epochs.\"\"\"\n",
    "    def __init__(self, model, chkpt_path, patience=5, delta=1e-4):\n",
    "        \"\"\"\n",
    "        Instantiate an EarlyStopping object.\n",
    "        :param model: The model.\n",
    "        :param chkpt_path: The filepath of the checkpoint file.\n",
    "        :param patience: The number of consecutive epochs to wait.\n",
    "        :param delta: The minimum change of the monitored quantity.\n",
    "        \"\"\"\n",
    "        if patience <= 0:\n",
    "            raise ValueError(\"The patience value must be positive\")\n",
    "        if delta <= 0.0:\n",
    "            raise ValueError(\"The delta value must be positive\")\n",
    "        self.model = model\n",
    "        self.chkpt_path = chkpt_path\n",
    "        self.patience = patience\n",
    "        self.delta = delta\n",
    "        self.best_loss = np.inf\n",
    "        self.counter = 0\n",
    "\n",
    "    @property\n",
    "    def should_stop(self):\n",
    "        \"\"\"\n",
    "        Check if the training process should stop.\n",
    "        \"\"\"\n",
    "        return self.counter >= self.patience\n",
    "\n",
    "    def get_best_state(self):\n",
    "        \"\"\"\n",
    "        Get the best model's state dictionary.\n",
    "        \"\"\"\n",
    "        with open(self.chkpt_path, 'rb') as f:\n",
    "            best_state = torch.load(f)\n",
    "        return best_state\n",
    "\n",
    "    def __call__(self, loss):\n",
    "        \"\"\"\n",
    "        Call the object.\n",
    "        :param loss: The validation loss measured.\n",
    "        \"\"\"\n",
    "        # Check if an improved of the loss happened\n",
    "        if loss < self.best_loss - self.delta:\n",
    "            self.best_loss = loss\n",
    "            self.counter = 0\n",
    "\n",
    "            # Save the best model state parameters\n",
    "            with open(self.chkpt_path, 'wb') as f:\n",
    "                torch.save(self.model.state_dict(), f)\n",
    "        else:\n",
    "            self.counter += 1\n",
    "\n",
    "\n",
    "class RunningAverageMetric:\n",
    "    \"\"\"Running (batched) average metric.\"\"\"\n",
    "    def __init__(self, batch_size):\n",
    "        \"\"\"\n",
    "        Initialize a running average metric object.\n",
    "        :param batch_size: The batch size.\n",
    "        \"\"\"\n",
    "        self.batch_size = batch_size\n",
    "        self.metric_accumulator = 0.0\n",
    "        self.n_metrics = 0\n",
    "\n",
    "    def __call__(self, x):\n",
    "        \"\"\"\n",
    "        Accumulate a metric.\n",
    "        :param x: The metric value.\n",
    "        \"\"\"\n",
    "        self.metric_accumulator += x\n",
    "        self.n_metrics += 1\n",
    "\n",
    "    def average(self):\n",
    "        \"\"\"\n",
    "        Get the metric average.\n",
    "        :return: The metric average.\n",
    "        \"\"\"\n",
    "        return self.metric_accumulator / (self.n_metrics * self.batch_size)\n",
    "\n",
    "\n",
    "def get_optimizer(optimizer):\n",
    "    return {\n",
    "        'sgd': torch.optim.SGD,\n",
    "        'adam': torch.optim.Adam,\n",
    "        'rmsprop': torch.optim.RMSprop\n",
    "    }[optimizer]\n"
   ]
  },
  {
   "cell_type": "markdown",
   "source": [
    "## Define training function"
   ],
   "metadata": {
    "id": "uvfIdSqwCtMB",
    "pycharm": {
     "name": "#%% md\n"
    }
   }
  },
  {
   "cell_type": "code",
   "execution_count": null,
   "metadata": {
    "id": "zGe_8JGWFTDv",
    "pycharm": {
     "name": "#%%\n"
    }
   },
   "outputs": [],
   "source": [
    "import os\n",
    "import time\n",
    "import torch\n",
    "import torchvision\n",
    "import numpy as np\n",
    "from tqdm import tqdm\n",
    "\n",
    "\n",
    "def train_classifier(\n",
    "        model,\n",
    "        train_data,\n",
    "        valid_data,\n",
    "        lr=1e-5,\n",
    "        optimizer='adam',\n",
    "        batch_size=32,\n",
    "        epochs=100,\n",
    "        patience=5,\n",
    "        steps_per_epoch=None,\n",
    "        weight_decay=0,\n",
    "        n_workers=2,\n",
    "        device=None,\n",
    "        verbose=True,\n",
    "        chkpt_path='checkpoint.pt'\n",
    "):\n",
    "\n",
    "    # Get the device to use\n",
    "    if device is None:\n",
    "        device = torch.device('cuda' if torch.cuda.is_available() else 'cpu')\n",
    "    print('Train using device: ' + str(device))\n",
    "\n",
    "    # Setup the data loaders\n",
    "    train_loader = torch.utils.data.DataLoader(\n",
    "        train_data, batch_size=batch_size, shuffle=True, num_workers=n_workers, drop_last=True\n",
    "    )\n",
    "    valid_loader = torch.utils.data.DataLoader(\n",
    "        valid_data, batch_size=batch_size, shuffle=False, num_workers=n_workers, drop_last=False\n",
    "    )\n",
    "    \n",
    "\n",
    "    \n",
    "    # Compute the class weights (due to dataset im-balance)\n",
    "    _, class_counts = np.unique(train_data.dataset.get_targets(), return_counts=True)\n",
    "    class_weights = np.min(class_counts) / class_counts\n",
    "    \n",
    "    # Instantiate the NLL losses (with weights)\n",
    "    criterion = torch.nn.NLLLoss(\n",
    "        weight=torch.tensor(class_weights, dtype=torch.float32, device=device),\n",
    "        reduction='sum'\n",
    "    )\n",
    "\n",
    "\n",
    "    # Move the model to device\n",
    "    model.to(device)\n",
    "\n",
    "    # Instantiate the optimizer\n",
    "    optimizer_kwargs = dict()\n",
    "    optimizer_class = get_optimizer('adam')\n",
    "    if optimizer_class == torch.optim.SGD:\n",
    "        # If using SGD, introduce Nesterov's momentum\n",
    "        optimizer_kwargs['momentum'] = 0.9\n",
    "        optimizer_kwargs['nesterov'] = True\n",
    "    optimizer = optimizer_class(\n",
    "        filter(lambda p: p.requires_grad, model.parameters()),\n",
    "        lr=lr, weight_decay=weight_decay, **optimizer_kwargs\n",
    "    )\n",
    "\n",
    "    # Instantiate the early stopping callback\n",
    "    early_stopping = EarlyStopping(model, chkpt_path, patience=patience)\n",
    "\n",
    "    # Compute the steps per epoch, if needed\n",
    "    if steps_per_epoch is None:\n",
    "        steps_per_epoch = len(train_loader)\n",
    "\n",
    "    history = {\n",
    "        'train': {'loss': [], 'accuracy': []},\n",
    "        'validation': {'loss': [], 'accuracy': []}\n",
    "    }\n",
    "\n",
    "    for epoch in range(epochs):\n",
    "        start_time = time.time()\n",
    "\n",
    "        # Initialize the tqdm train data loader, if verbose is enabled\n",
    "        if verbose:\n",
    "            tk_train = tqdm(\n",
    "                train_loader, total=steps_per_epoch, leave=False,\n",
    "                bar_format='{l_bar}{bar:32}{r_bar}', desc='Train Epoch %d/%d' % (epoch + 1, epochs)\n",
    "            )\n",
    "        else:\n",
    "            tk_train = train_loader\n",
    "\n",
    "        # Make sure the model is set to train mode\n",
    "        model.train()\n",
    "\n",
    "        # Training phase\n",
    "        running_train_loss = RunningAverageMetric(train_loader.batch_size)\n",
    "        running_train_hits = RunningAverageMetric(train_loader.batch_size)\n",
    "        for i, (inputs, targets) in enumerate(tk_train):\n",
    "            if i >= steps_per_epoch:\n",
    "                break\n",
    "\n",
    "            inputs, targets = inputs.to(device), targets.to(device)\n",
    "            optimizer.zero_grad()\n",
    "            outputs = torch.log_softmax(model(inputs.float()), dim=1)\n",
    "            loss = criterion(outputs, targets)\n",
    "            running_train_loss(loss.item())\n",
    "            loss /= train_loader.batch_size\n",
    "            loss.backward()\n",
    "            optimizer.step()\n",
    "            with torch.no_grad():\n",
    "                predictions = torch.argmax(outputs, dim=1)\n",
    "                hits = torch.eq(predictions, targets).sum()\n",
    "                running_train_hits(hits.item())\n",
    "\n",
    "        # Close the tqdm train bar\n",
    "        if verbose:\n",
    "            tk_train.close()\n",
    "\n",
    "        # Initialize the tqdm validation data loader, if verbose is specified\n",
    "        if verbose:\n",
    "            tk_val = tqdm(\n",
    "                valid_loader, leave=False, bar_format='{l_bar}{bar:32}{r_bar}',\n",
    "                desc='Validation Epoch %d/%d' % (epoch + 1, epochs)\n",
    "            )\n",
    "        else:\n",
    "            tk_val = valid_loader\n",
    "\n",
    "        # Make sure the model is set to evaluation mode\n",
    "        model.eval()\n",
    "\n",
    "        # Validation phase\n",
    "        running_val_loss = RunningAverageMetric(valid_loader.batch_size)\n",
    "        running_val_hits = RunningAverageMetric(valid_loader.batch_size)\n",
    "        with torch.no_grad():\n",
    "            for inputs, targets in tk_val:\n",
    "                inputs, targets = inputs.to(device), targets.to(device)\n",
    "                optimizer.zero_grad()\n",
    "                outputs = torch.log_softmax(model(inputs.float()), dim=1)\n",
    "                loss = criterion(outputs, targets)\n",
    "                running_val_loss(loss.item())\n",
    "                predictions = torch.argmax(outputs, dim=1)\n",
    "                hits = torch.eq(predictions, targets).sum()\n",
    "                running_val_hits(hits.item())\n",
    "\n",
    "        # Get the average train and validation losses and accuracies and print it\n",
    "        end_time = time.time()\n",
    "        train_loss = running_train_loss.average()\n",
    "        train_accuracy = running_train_hits.average()\n",
    "        val_loss = running_val_loss.average()\n",
    "        val_accuracy = running_val_hits.average()\n",
    "        print('Epoch %d/%d - train_loss: %.4f, validation_loss: %.4f, train_acc: %.1f%%, validation_acc: %.1f%% [%ds]' %\n",
    "              (epoch + 1, epochs, train_loss, val_loss, train_accuracy*100, val_accuracy*100, end_time - start_time))\n",
    "\n",
    "        # Append losses and accuracies to history data\n",
    "        history['train']['loss'].append(train_loss)\n",
    "        history['train']['accuracy'].append(train_accuracy)\n",
    "        history['validation']['loss'].append(val_loss)\n",
    "        history['validation']['accuracy'].append(val_accuracy)\n",
    "\n",
    "        # Check if training should stop according to early stopping\n",
    "        early_stopping(val_loss)\n",
    "        if early_stopping.should_stop:\n",
    "            print('Early Stopping... Best Loss: %.4f' % early_stopping.best_loss)\n",
    "            break\n",
    "\n",
    "    # Reload the best parameters state\n",
    "    model.load_state_dict(early_stopping.get_best_state())\n",
    "    return history\n"
   ]
  },
  {
   "cell_type": "markdown",
   "source": [
    "## Extract training set embeddings"
   ],
   "metadata": {
    "id": "6oREOLIvCwON",
    "pycharm": {
     "name": "#%% md\n"
    }
   }
  },
  {
   "cell_type": "code",
   "source": [
    "bert_model.eval()\n",
    "embed_dir = \"Embed_Train\"\n",
    "os.makedirs(embed_dir, exist_ok=True)\n",
    "extract_embeddings(embed_dir, dataloader)"
   ],
   "metadata": {
    "id": "dPpulLHAOzg8",
    "pycharm": {
     "name": "#%%\n"
    }
   },
   "execution_count": null,
   "outputs": []
  },
  {
   "cell_type": "markdown",
   "source": [
    "## Take a part of the training set as validation set"
   ],
   "metadata": {
    "id": "-Y_bei74C0Cp",
    "pycharm": {
     "name": "#%% md\n"
    }
   }
  },
  {
   "cell_type": "code",
   "execution_count": null,
   "metadata": {
    "scrolled": true,
    "id": "ttCSEGKXFTDw",
    "pycharm": {
     "name": "#%%\n"
    }
   },
   "outputs": [],
   "source": [
    "import torch\n",
    "from torch.utils.data import random_split\n",
    "from sklearn.model_selection import train_test_split\n",
    "\n",
    "ohe, enc = get_one_hot(list(trainset['issue_author_association']))\n",
    "labels = lenc.transform(get_labels(trainset))\n",
    "labels = torch.tensor(labels)\n",
    "train_dataset = EmbedDataset(embed_dir, ohe, labels)\n",
    "\n",
    "train_indices, val_indices = train_test_split(list(range(len(train_dataset.get_targets()))), test_size=0.1, stratify=train_dataset.get_targets(), random_state=42)\n",
    "split_train_dataset = torch.utils.data.Subset(train_dataset, train_indices)\n",
    "val_dataset = torch.utils.data.Subset(train_dataset, val_indices)"
   ]
  },
  {
   "cell_type": "markdown",
   "source": [
    "## Train"
   ],
   "metadata": {
    "id": "BnUVoCfBC54_",
    "pycharm": {
     "name": "#%% md\n"
    }
   }
  },
  {
   "cell_type": "code",
   "execution_count": null,
   "metadata": {
    "scrolled": false,
    "id": "P-y_QOakFTDw",
    "pycharm": {
     "name": "#%%\n"
    }
   },
   "outputs": [],
   "source": [
    "state_filepath = 'mlp.pt'\n",
    "m = MLP(input_size, num_classes)\n",
    "train_classifier(m, split_train_dataset, val_dataset, lr=1e-5, patience=5, chkpt_path=state_filepath, n_workers=4, random_state=42)"
   ]
  },
  {
   "cell_type": "markdown",
   "source": [
    "## Extract test set embeddings"
   ],
   "metadata": {
    "id": "wEP4vcnNC63q",
    "pycharm": {
     "name": "#%% md\n"
    }
   }
  },
  {
   "cell_type": "code",
   "execution_count": null,
   "metadata": {
    "id": "8QDHPgobFTDx",
    "pycharm": {
     "name": "#%%\n"
    }
   },
   "outputs": [],
   "source": [
    "data, labels, _ = get_data(testset)\n",
    "\n",
    "inputs = encode_text(data, tokenizer)\n",
    "masks = create_attention_masks(inputs)\n",
    "\n",
    "labels = lenc.transform(labels)\n",
    "batch_size = 32\n",
    "\n",
    "inputs = torch.tensor(inputs)\n",
    "labels = torch.tensor(labels)\n",
    "masks = torch.tensor(masks)\n",
    "\n",
    "# Create the DataLoader for our dataset\n",
    "data = TensorDataset(inputs, masks)\n",
    "sampler = SequentialSampler(data)\n",
    "dataloader = DataLoader(data, sampler=sampler, batch_size=batch_size, num_workers=2)"
   ]
  },
  {
   "cell_type": "code",
   "execution_count": null,
   "metadata": {
    "id": "LsfSmFEeFTDx",
    "pycharm": {
     "name": "#%%\n"
    }
   },
   "outputs": [],
   "source": [
    "embed_dir = 'Embed_Test'\n",
    "os.makedirs(embed_dir, exist_ok=True)\n",
    "extract_embeddings(embed_dir, dataloader)"
   ]
  },
  {
   "cell_type": "markdown",
   "source": [
    "## Load model and evaluate"
   ],
   "metadata": {
    "id": "NzDjGLTGC_CK",
    "pycharm": {
     "name": "#%% md\n"
    }
   }
  },
  {
   "cell_type": "code",
   "execution_count": null,
   "metadata": {
    "id": "wGE9my-vFTDx",
    "pycharm": {
     "name": "#%%\n"
    }
   },
   "outputs": [],
   "source": [
    "from sklearn.metrics import confusion_matrix, classification_report\n",
    "import json\n",
    "test_dataset = EmbedDataset(embed_dir, get_one_hot(list(testset['issue_author_association']), enc), labels)\n",
    "\n",
    "m = MLP(input_size, num_classes)\n",
    "\n",
    "# Instantiate the model and load from folder\n",
    "m.load_state_dict(torch.load(state_filepath))\n",
    "\n",
    "# Get the device to use\n",
    "device = torch.device('cuda' if torch.cuda.is_available() else 'cpu')\n",
    "print('Test using device: ' + str(device))\n",
    "\n",
    "# Move the model to device\n",
    "m.to(device)\n",
    "\n",
    "# Make sure the model is set to evaluation mode\n",
    "m.eval()\n",
    "metrics_path = 'metrics'\n",
    "os.makedirs(metrics_path, exist_ok=True)\n",
    "\n",
    "\n",
    "# Make the predictions for testing the model\n",
    "y_pred, y_true = [], []\n",
    "with torch.no_grad():\n",
    "    for idx, (x1, label) in enumerate(tqdm(test_dataset)):\n",
    "        x1 = x1.unsqueeze(0)\n",
    "        x1 = x1.to(device)\n",
    "        pred = m(x1.float())\n",
    "        pred = torch.log_softmax(pred, dim=1)\n",
    "        pred = torch.argmax(pred, dim=1).item()\n",
    "        y_pred.append(pred)\n",
    "        y_true.append(label)\n",
    "\n",
    "# Obtain the classification report\n",
    "report = classification_report(y_true, y_pred, output_dict=True)\n",
    "cm = confusion_matrix(y_true, y_pred)\n",
    "metrics = {\n",
    "    'report': report,\n",
    "    'confusion_matrix': cm.tolist()\n",
    "}\n",
    "\n",
    "# Store the metrics in a JSON file\n",
    "with open(os.path.join(metrics_path, \"MLP-metrics.json\"), 'w') as file:\n",
    "    json.dump(metrics, file, indent=4)\n"
   ]
  },
  {
   "cell_type": "markdown",
   "source": [
    "## Visualize metrics"
   ],
   "metadata": {
    "id": "1iGaAhgNDBR4",
    "pycharm": {
     "name": "#%% md\n"
    }
   }
  },
  {
   "cell_type": "code",
   "execution_count": null,
   "metadata": {
    "scrolled": true,
    "id": "BeKqdkc4FTDx",
    "pycharm": {
     "name": "#%%\n"
    }
   },
   "outputs": [],
   "source": [
    "print(classification_report(y_true, y_pred))"
   ]
  }
 ],
 "metadata": {
  "colab": {
   "collapsed_sections": [],
   "name": "NLBSE_Submission_Classifier2.ipynb",
   "provenance": [],
   "machine_shape": "hm"
  },
  "kernelspec": {
   "display_name": "Python 3 (ipykernel)",
   "language": "python",
   "name": "python3"
  },
  "language_info": {
   "codemirror_mode": {
    "name": "ipython",
    "version": 3
   },
   "file_extension": ".py",
   "mimetype": "text/x-python",
   "name": "python",
   "nbconvert_exporter": "python",
   "pygments_lexer": "ipython3",
   "version": "3.8.0"
  },
  "accelerator": "GPU"
 },
 "nbformat": 4,
 "nbformat_minor": 0
}